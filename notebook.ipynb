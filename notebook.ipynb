{
 "cells": [
  {
   "cell_type": "code",
   "execution_count": 69,
   "id": "3be5eec8-03b0-407a-8b88-74498b815227",
   "metadata": {},
   "outputs": [],
   "source": [
    "import cv2\n",
    "import numpy as np\n",
    "from pathlib import Path\n",
    "import matplotlib.pyplot as plt"
   ]
  },
  {
   "cell_type": "code",
   "execution_count": 39,
   "id": "9db0e2c7-31a1-4256-8160-9ac2ef24d9a3",
   "metadata": {},
   "outputs": [],
   "source": [
    "images = []\n",
    "data_src = Path(\"data\")\n",
    "\n",
    "for img in data_src.iterdir():\n",
    "    images.append(cv2.imread(str(img)))\n",
    "\n",
    "images = np.array(images)"
   ]
  },
  {
   "cell_type": "code",
   "execution_count": 40,
   "id": "4e13e70f-6f8b-4949-aee0-0dbfa63d7911",
   "metadata": {},
   "outputs": [
    {
     "name": "stdout",
     "output_type": "stream",
     "text": [
      "(6, 1000, 1000, 3)\n"
     ]
    }
   ],
   "source": [
    "print(images.shape)"
   ]
  },
  {
   "cell_type": "code",
   "execution_count": 47,
   "id": "f9fb2885-1b69-4b5f-bb92-d51c280fe1e1",
   "metadata": {},
   "outputs": [],
   "source": [
    "def convert(images, cvt_type):\n",
    "    new_images = []\n",
    "    for img in images:\n",
    "        new_images.append(cv2.cvtColor(img, cvt_type))\n",
    "    return np.array(new_images)"
   ]
  },
  {
   "cell_type": "code",
   "execution_count": 79,
   "id": "3e572080-01f1-4100-8c90-1806ed70cfca",
   "metadata": {},
   "outputs": [
    {
     "name": "stdout",
     "output_type": "stream",
     "text": [
      "(6, 1000, 1000, 3)\n",
      "(6, 1000, 1000)\n",
      "(6, 1000, 1000, 3)\n",
      "(6, 1000, 1000, 3)\n",
      "(6, 1000, 1000, 3)\n",
      "(6, 1000, 1000, 3)\n"
     ]
    }
   ],
   "source": [
    "rgb_images = convert(images, cv2.COLOR_BGR2RGB)\n",
    "gray_images = convert(images, cv2.COLOR_BGR2GRAY)\n",
    "ycbcr_images = convert(images, cv2.COLOR_BGR2YCrCb)\n",
    "hsv_images = convert(images, cv2.COLOR_BGR2HSV)\n",
    "xyz_images = convert(images, cv2.COLOR_BGR2XYZ)\n",
    "lab_images = convert(images, cv2.COLOR_BGR2LAB)\n",
    "\n",
    "for arr in [rgb_images, gray_images, ycbcr_images, hsv_images, xyz_images, lab_images]:\n",
    "    print(arr.shape)"
   ]
  },
  {
   "cell_type": "code",
   "execution_count": null,
   "id": "37ca6f65-a0a9-4200-8de6-d69afd61f66e",
   "metadata": {},
   "outputs": [],
   "source": []
  }
 ],
 "metadata": {
  "kernelspec": {
   "display_name": "Python 3 (ipykernel)",
   "language": "python",
   "name": "python3"
  },
  "language_info": {
   "codemirror_mode": {
    "name": "ipython",
    "version": 3
   },
   "file_extension": ".py",
   "mimetype": "text/x-python",
   "name": "python",
   "nbconvert_exporter": "python",
   "pygments_lexer": "ipython3",
   "version": "3.12.0"
  }
 },
 "nbformat": 4,
 "nbformat_minor": 5
}
