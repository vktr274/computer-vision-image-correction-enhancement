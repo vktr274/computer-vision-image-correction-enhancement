{
 "cells": [
  {
   "cell_type": "markdown",
   "id": "13c79d4c-6f5a-4afd-8b5d-651d22583236",
   "metadata": {},
   "source": [
    "# Assignment 2 - Image Enhancement"
   ]
  },
  {
   "cell_type": "code",
   "execution_count": 3,
   "id": "bedc1dc0-0c34-4305-9316-2a1cec7b8f39",
   "metadata": {},
   "outputs": [],
   "source": [
    "import cv2\n",
    "import numpy as np\n",
    "from pathlib import Path\n",
    "import matplotlib.pyplot as plt\n",
    "from utils import convert_images"
   ]
  },
  {
   "cell_type": "code",
   "execution_count": 2,
   "id": "5c67b0a2-b72a-4abe-90f8-a1222c43aad5",
   "metadata": {},
   "outputs": [],
   "source": [
    "images = []\n",
    "data_src = Path(\"data\")\n",
    "\n",
    "for img in data_src.iterdir():\n",
    "    images.append(cv2.imread(str(img)))\n",
    "\n",
    "images = np.array(images)"
   ]
  },
  {
   "cell_type": "code",
   "execution_count": 4,
   "id": "4f63054b-2fa5-4881-a38c-7294e31bf290",
   "metadata": {},
   "outputs": [],
   "source": [
    "lab_images = convert_images(images, cv2.COLOR_BGR2LAB)"
   ]
  },
  {
   "cell_type": "code",
   "execution_count": null,
   "id": "af9477a5-6620-4fa2-803c-16299a45afdc",
   "metadata": {},
   "outputs": [],
   "source": []
  }
 ],
 "metadata": {
  "kernelspec": {
   "display_name": "Python 3 (ipykernel)",
   "language": "python",
   "name": "python3"
  },
  "language_info": {
   "codemirror_mode": {
    "name": "ipython",
    "version": 3
   },
   "file_extension": ".py",
   "mimetype": "text/x-python",
   "name": "python",
   "nbconvert_exporter": "python",
   "pygments_lexer": "ipython3",
   "version": "3.12.0"
  }
 },
 "nbformat": 4,
 "nbformat_minor": 5
}
